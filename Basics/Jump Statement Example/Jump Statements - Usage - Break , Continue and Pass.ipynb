{
 "cells": [
  {
   "cell_type": "markdown",
   "metadata": {},
   "source": [
    "### This notebook shows the usage of Jump Statements namely Break, Continue and Pass"
   ]
  },
  {
   "cell_type": "markdown",
   "metadata": {},
   "source": [
    "### 1. Break"
   ]
  },
  {
   "cell_type": "code",
   "execution_count": 6,
   "metadata": {},
   "outputs": [
    {
     "name": "stdout",
     "output_type": "stream",
     "text": [
      "Enter Your Password: hsj\n",
      "Wrong Password. Please enter correct password. #Unsuccesful attempts:  1\n",
      "Enter Your Password: jskj\n",
      "Wrong Password. Please enter correct password. #Unsuccesful attempts:  2\n",
      "you have tried max times, next unsuccessful attempt will lock your account\n",
      "Enter Your Password: jks\n",
      "Your Account is locked. Please contact your system administrator, \n"
     ]
    }
   ],
   "source": [
    "Password = \"Welcome123#\"\n",
    "for i in range(1,4):\n",
    "    if i==3:\n",
    "        print(\"you have tried max times, next unsuccessful attempt will lock your account\")\n",
    "    entered_password = input(\"Enter Your Password: \")\n",
    "    if entered_password == Password:\n",
    "        print(\"Login Successful\")\n",
    "        break\n",
    "    else:\n",
    "        if i==3:\n",
    "            print(\"Your Account is locked. Please contact your system administrator, \")\n",
    "        else:\n",
    "            print(\"Wrong Password. Please enter correct password. #Unsuccesful attempts: \",i)"
   ]
  },
  {
   "cell_type": "code",
   "execution_count": 4,
   "metadata": {},
   "outputs": [
    {
     "name": "stdout",
     "output_type": "stream",
     "text": [
      "Enter Your Password: Welcome123#\n",
      "Login Successful\n"
     ]
    }
   ],
   "source": [
    "# Simulating the same to show the success case\n",
    "\n",
    "Password = \"Welcome123#\"\n",
    "for i in range(1,4):\n",
    "    if i==3:\n",
    "        print(\"you have tried max times, next unsuccessful attempt will lock your account\")\n",
    "    entered_password = input(\"Enter Your Password: \")\n",
    "    if entered_password == Password:\n",
    "        print(\"Login Successful\")\n",
    "        break\n",
    "    else:\n",
    "        if i==3:\n",
    "            print(\"Your Account is locked. Please contact your system administrator, \")\n",
    "        else:\n",
    "            print(\"Wrong Password. Please enter correct password. #Unsuccesful attempts: \",i)"
   ]
  },
  {
   "cell_type": "markdown",
   "metadata": {},
   "source": [
    "### 2. Continue"
   ]
  },
  {
   "cell_type": "code",
   "execution_count": 18,
   "metadata": {},
   "outputs": [
    {
     "name": "stdout",
     "output_type": "stream",
     "text": [
      "Enter OTP: 862\n",
      "Try Again !!\n",
      "Enter OTP: 72\n",
      "Try Again !!\n",
      "Enter OTP: 872\n",
      "You have tried max unsuccesful attempts, your account will be locked\n",
      "Enter OTP: 828\n",
      "You have tried max number of unsuccessful attemps #  4 please try again after sometime\n"
     ]
    }
   ],
   "source": [
    "OTP  = \"1234\"\n",
    "for i in range(1,5):\n",
    "    \n",
    "    if i==4:\n",
    "        print('You have tried max unsuccesful attempts, your account will be locked')\n",
    "    entered_OTP = input(\"Enter OTP: \")\n",
    "    if entered_OTP != OTP:\n",
    "        if i==4:\n",
    "            print(\"You have tried max number of unsuccessful attemps # \", i, \"please try again after sometime\")\n",
    "        elif i==3:\n",
    "            pass\n",
    "        else:\n",
    "            print(\"Try Again !!\")\n",
    "        continue\n",
    "    else:\n",
    "        name = input(\"Enter Your Name: \")\n",
    "        city_name = input(\"Enter Your City: \")\n",
    "        print(\"Welcome \", name, \"!! Hope you enjoyed your trip from your city - \", city)\n",
    "        break\n"
   ]
  },
  {
   "cell_type": "code",
   "execution_count": 22,
   "metadata": {},
   "outputs": [
    {
     "name": "stdout",
     "output_type": "stream",
     "text": [
      "Enter OTP: 1234\n",
      "Enter Your Name: Bilal\n",
      "Enter Your City: Benagluru\n",
      "********************************************\n",
      "Welcome  Bilal !! Hope you enjoyed your trip from your city -  Benagluru\n",
      "********************************************\n"
     ]
    }
   ],
   "source": [
    "#Simulating to show the success output\n",
    "\n",
    "OTP  = \"1234\"\n",
    "for i in range(1,5):\n",
    "    \n",
    "    if i==4:\n",
    "        print('You have tried max unsuccesful attempts, your account will be locked')\n",
    "    entered_OTP = input(\"Enter OTP: \")\n",
    "    if entered_OTP != OTP:\n",
    "        if i==4:\n",
    "            print(\"You have tried max number of unsuccessful attemps # \", i, \"please try again after sometime\")\n",
    "        elif i==3:\n",
    "            pass\n",
    "        else:\n",
    "            print(\"Try Again !!\")\n",
    "        continue\n",
    "    else:\n",
    "        name = input(\"Enter Your Name: \")\n",
    "        city_name = input(\"Enter Your City: \")\n",
    "        print(\"********************************************\")\n",
    "        print(\"Welcome \", name, \"!! Hope you enjoyed your trip from your city - \", city_name)\n",
    "        print(\"********************************************\")\n",
    "        break"
   ]
  },
  {
   "cell_type": "markdown",
   "metadata": {},
   "source": [
    "### 3. Pass statement"
   ]
  },
  {
   "cell_type": "code",
   "execution_count": 23,
   "metadata": {},
   "outputs": [
    {
     "ename": "SyntaxError",
     "evalue": "unexpected EOF while parsing (<ipython-input-23-e61162350cc4>, line 1)",
     "output_type": "error",
     "traceback": [
      "\u001b[1;36m  File \u001b[1;32m\"<ipython-input-23-e61162350cc4>\"\u001b[1;36m, line \u001b[1;32m1\u001b[0m\n\u001b[1;33m    for i in range(10):\u001b[0m\n\u001b[1;37m                       ^\u001b[0m\n\u001b[1;31mSyntaxError\u001b[0m\u001b[1;31m:\u001b[0m unexpected EOF while parsing\n"
     ]
    }
   ],
   "source": [
    "for i in range(10):"
   ]
  },
  {
   "cell_type": "code",
   "execution_count": 25,
   "metadata": {},
   "outputs": [],
   "source": [
    "# the above snippet is run with just a new line pass, which acts like a place holder.The pass statement tells the program\n",
    "# to disregard that condition and continue to run the program as usual.\n",
    "for i in range(10):\n",
    "    pass"
   ]
  },
  {
   "cell_type": "markdown",
   "metadata": {},
   "source": [
    "## Difference between Break, Continue and Pass in same code snippet"
   ]
  },
  {
   "cell_type": "code",
   "execution_count": 27,
   "metadata": {},
   "outputs": [
    {
     "name": "stdout",
     "output_type": "stream",
     "text": [
      "Number is 0\n",
      "Number is 1\n",
      "Number is 2\n",
      "Number is 3\n",
      "Number is 4\n",
      "Out of loop\n"
     ]
    }
   ],
   "source": [
    "number = 0\n",
    "\n",
    "for number in range(10):\n",
    "    if number == 5:\n",
    "        break    # break here as number reaches 5 it breaks execution and comes out of loop\n",
    "\n",
    "    print('Number is ' + str(number))\n",
    "\n",
    "print('Out of loop')\n"
   ]
  },
  {
   "cell_type": "code",
   "execution_count": 28,
   "metadata": {},
   "outputs": [
    {
     "name": "stdout",
     "output_type": "stream",
     "text": [
      "Number is 0\n",
      "Number is 1\n",
      "Number is 2\n",
      "Number is 3\n",
      "Number is 4\n",
      "Number is 6\n",
      "Number is 7\n",
      "Number is 8\n",
      "Number is 9\n",
      "Out of loop\n"
     ]
    }
   ],
   "source": [
    "number = 0\n",
    "\n",
    "for number in range(10):\n",
    "    if number == 5:\n",
    "        continue    # continue here, as number reaches it skips the current iteration and proceeds further in loop execution\n",
    "\n",
    "    print('Number is ' + str(number))\n",
    "\n",
    "print('Out of loop')\n"
   ]
  },
  {
   "cell_type": "code",
   "execution_count": 29,
   "metadata": {},
   "outputs": [
    {
     "name": "stdout",
     "output_type": "stream",
     "text": [
      "Number is 0\n",
      "Number is 1\n",
      "Number is 2\n",
      "Number is 3\n",
      "Number is 4\n",
      "Number is 5\n",
      "Number is 6\n",
      "Number is 7\n",
      "Number is 8\n",
      "Number is 9\n",
      "Out of loop\n"
     ]
    }
   ],
   "source": [
    "number = 0\n",
    "\n",
    "for number in range(10):\n",
    "    if number == 5:\n",
    "        pass    # pass here, pass acts like placeholder, as such it ill not interrupt the program execution \n",
    "\n",
    "    print('Number is ' + str(number))\n",
    "\n",
    "print('Out of loop')\n"
   ]
  },
  {
   "cell_type": "code",
   "execution_count": null,
   "metadata": {},
   "outputs": [],
   "source": []
  }
 ],
 "metadata": {
  "kernelspec": {
   "display_name": "Python 3",
   "language": "python",
   "name": "python3"
  },
  "language_info": {
   "codemirror_mode": {
    "name": "ipython",
    "version": 3
   },
   "file_extension": ".py",
   "mimetype": "text/x-python",
   "name": "python",
   "nbconvert_exporter": "python",
   "pygments_lexer": "ipython3",
   "version": "3.8.5"
  }
 },
 "nbformat": 4,
 "nbformat_minor": 4
}
