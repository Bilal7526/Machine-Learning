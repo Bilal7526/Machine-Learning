{
 "cells": [
  {
   "cell_type": "markdown",
   "metadata": {},
   "source": [
    "# This notebook consists of examples in Functions, Lambda , Recursive function"
   ]
  },
  {
   "cell_type": "markdown",
   "metadata": {},
   "source": [
    " <h1><center> Functions </h1></center>\n",
    "\n",
    "1. Sample function\n",
    "2. Usage of default parameter in a function\n",
    "3. Usage of Positional arguments, Keyword arguments. order to be used when both used together\n",
    "4. Variable length aruments - for normal arguments use * and for Keyword arguments use **\n",
    "5. Scope of variables - Global and local variables"
   ]
  },
  {
   "cell_type": "code",
   "execution_count": 1,
   "metadata": {},
   "outputs": [],
   "source": [
    "# function add two numbers with return. if return is not used then value is not passed to calling function\n",
    "\n",
    "def add_twonumbers (a,b):\n",
    "    return a+b"
   ]
  },
  {
   "cell_type": "code",
   "execution_count": 2,
   "metadata": {},
   "outputs": [],
   "source": [
    "# calling function \n",
    "Sumof4and5 = add_twonumbers(4,5)"
   ]
  },
  {
   "cell_type": "code",
   "execution_count": 3,
   "metadata": {},
   "outputs": [
    {
     "data": {
      "text/plain": [
       "9"
      ]
     },
     "execution_count": 3,
     "metadata": {},
     "output_type": "execute_result"
    }
   ],
   "source": [
    "Sumof4and5"
   ]
  },
  {
   "cell_type": "code",
   "execution_count": 4,
   "metadata": {},
   "outputs": [],
   "source": [
    "# Passing Parameters\n",
    "def welcome(name):\n",
    "    print('Welcome ',name,' to the Python Course')"
   ]
  },
  {
   "cell_type": "code",
   "execution_count": 5,
   "metadata": {},
   "outputs": [
    {
     "ename": "TypeError",
     "evalue": "welcome() missing 1 required positional argument: 'name'",
     "output_type": "error",
     "traceback": [
      "\u001b[1;31m---------------------------------------------------------------------------\u001b[0m",
      "\u001b[1;31mTypeError\u001b[0m                                 Traceback (most recent call last)",
      "\u001b[1;32m<ipython-input-5-a401d7101853>\u001b[0m in \u001b[0;36m<module>\u001b[1;34m\u001b[0m\n\u001b[1;32m----> 1\u001b[1;33m \u001b[0mwelcome\u001b[0m\u001b[1;33m(\u001b[0m\u001b[1;33m)\u001b[0m\u001b[1;33m\u001b[0m\u001b[1;33m\u001b[0m\u001b[0m\n\u001b[0m",
      "\u001b[1;31mTypeError\u001b[0m: welcome() missing 1 required positional argument: 'name'"
     ]
    }
   ],
   "source": [
    "welcome()"
   ]
  },
  {
   "cell_type": "code",
   "execution_count": 7,
   "metadata": {},
   "outputs": [
    {
     "name": "stdout",
     "output_type": "stream",
     "text": [
      "Welcome  Bilal  to the Python Course\n"
     ]
    }
   ],
   "source": [
    "welcome('Bilal')"
   ]
  },
  {
   "cell_type": "code",
   "execution_count": 8,
   "metadata": {},
   "outputs": [],
   "source": [
    "# Default Parameter\n",
    "# to avoid the required positional argument error we use default paramter\n",
    "def welcome(name = 'Student'):\n",
    "    print('Welcome ',name,' to the Python Course')"
   ]
  },
  {
   "cell_type": "code",
   "execution_count": 9,
   "metadata": {},
   "outputs": [
    {
     "name": "stdout",
     "output_type": "stream",
     "text": [
      "Welcome  Student  to the Python Course\n"
     ]
    }
   ],
   "source": [
    "welcome()"
   ]
  },
  {
   "cell_type": "code",
   "execution_count": 12,
   "metadata": {},
   "outputs": [],
   "source": [
    "# Positional Arguments\n",
    "\n",
    "def subtract(smallnumber,largenumber):\n",
    "    difference = largenumber - smallnumber\n",
    "    return difference"
   ]
  },
  {
   "cell_type": "code",
   "execution_count": 13,
   "metadata": {},
   "outputs": [
    {
     "data": {
      "text/plain": [
       "1"
      ]
     },
     "execution_count": 13,
     "metadata": {},
     "output_type": "execute_result"
    }
   ],
   "source": [
    "subtract(4,5)"
   ]
  },
  {
   "cell_type": "code",
   "execution_count": 14,
   "metadata": {},
   "outputs": [
    {
     "data": {
      "text/plain": [
       "-1"
      ]
     },
     "execution_count": 14,
     "metadata": {},
     "output_type": "execute_result"
    }
   ],
   "source": [
    "subtract(5,4)"
   ]
  },
  {
   "cell_type": "code",
   "execution_count": 15,
   "metadata": {},
   "outputs": [
    {
     "data": {
      "text/plain": [
       "1"
      ]
     },
     "execution_count": 15,
     "metadata": {},
     "output_type": "execute_result"
    }
   ],
   "source": [
    "#when specifying keywords we can specifying the arguments in any order\n",
    "subtract(largenumber=5,smallnumber=4)"
   ]
  },
  {
   "cell_type": "code",
   "execution_count": 16,
   "metadata": {},
   "outputs": [
    {
     "data": {
      "text/plain": [
       "1"
      ]
     },
     "execution_count": 16,
     "metadata": {},
     "output_type": "execute_result"
    }
   ],
   "source": [
    "subtract(4,largenumber=5)"
   ]
  },
  {
   "cell_type": "code",
   "execution_count": 17,
   "metadata": {},
   "outputs": [
    {
     "ename": "SyntaxError",
     "evalue": "positional argument follows keyword argument (<ipython-input-17-2c1f2387e53c>, line 1)",
     "output_type": "error",
     "traceback": [
      "\u001b[1;36m  File \u001b[1;32m\"<ipython-input-17-2c1f2387e53c>\"\u001b[1;36m, line \u001b[1;32m1\u001b[0m\n\u001b[1;33m    subtract(largenumber=5,4)\u001b[0m\n\u001b[1;37m                           ^\u001b[0m\n\u001b[1;31mSyntaxError\u001b[0m\u001b[1;31m:\u001b[0m positional argument follows keyword argument\n"
     ]
    }
   ],
   "source": [
    "#while using both positional and keyword arguments, we specify positional arguments first and keyword arguments else it will \n",
    "#fail with following error - \"positional argument follows keyword argument\"\n",
    "subtract(largenumber=5,4)"
   ]
  },
  {
   "cell_type": "code",
   "execution_count": 19,
   "metadata": {},
   "outputs": [],
   "source": [
    "# Variable length Arguments\n",
    "# Sometimes we dont know arguments list in beginnning in that case we use Variable legth Arguments\n",
    "\n",
    "def my_fun(*args):\n",
    "    for i in args:\n",
    "        print(i)"
   ]
  },
  {
   "cell_type": "code",
   "execution_count": 20,
   "metadata": {},
   "outputs": [
    {
     "name": "stdout",
     "output_type": "stream",
     "text": [
      "1\n",
      "2\n",
      "3\n",
      "4\n",
      "5\n",
      "6\n"
     ]
    }
   ],
   "source": [
    "my_fun(1,2,3,4,5,6)"
   ]
  },
  {
   "cell_type": "code",
   "execution_count": 21,
   "metadata": {},
   "outputs": [
    {
     "name": "stdout",
     "output_type": "stream",
     "text": [
      "1\n",
      "2\n",
      "3\n"
     ]
    }
   ],
   "source": [
    "my_fun(1,2,3)"
   ]
  },
  {
   "cell_type": "code",
   "execution_count": 22,
   "metadata": {},
   "outputs": [
    {
     "name": "stdout",
     "output_type": "stream",
     "text": [
      "Amar\n",
      "Akbar\n",
      "Anthony\n"
     ]
    }
   ],
   "source": [
    "my_fun(\"Amar\",\"Akbar\",\"Anthony\")"
   ]
  },
  {
   "cell_type": "code",
   "execution_count": 23,
   "metadata": {},
   "outputs": [],
   "source": [
    "# for Keyword arguments we use double asterisk**\n",
    "def my_fun(**kwargs):\n",
    "    for key,value in kwargs.items():\n",
    "        print(key,value)"
   ]
  },
  {
   "cell_type": "code",
   "execution_count": 24,
   "metadata": {},
   "outputs": [
    {
     "name": "stdout",
     "output_type": "stream",
     "text": [
      "a 1\n",
      "b 2\n",
      "c 3\n"
     ]
    }
   ],
   "source": [
    "my_fun(a=1,b=2,c=3)"
   ]
  },
  {
   "cell_type": "code",
   "execution_count": 27,
   "metadata": {},
   "outputs": [],
   "source": [
    "#global variable defined \n",
    "name = \"variable declared globally\"\n",
    "def globvar():\n",
    "    name = \"global variable getting updated inside the function\"\n",
    "    return name"
   ]
  },
  {
   "cell_type": "code",
   "execution_count": 28,
   "metadata": {},
   "outputs": [
    {
     "data": {
      "text/plain": [
       "'global variable getting updated inside the function'"
      ]
     },
     "execution_count": 28,
     "metadata": {},
     "output_type": "execute_result"
    }
   ],
   "source": [
    "globvar()"
   ]
  },
  {
   "cell_type": "code",
   "execution_count": 29,
   "metadata": {},
   "outputs": [
    {
     "data": {
      "text/plain": [
       "'variable declared globally'"
      ]
     },
     "execution_count": 29,
     "metadata": {},
     "output_type": "execute_result"
    }
   ],
   "source": [
    "#global variable didnt get updated \n",
    "name"
   ]
  },
  {
   "cell_type": "code",
   "execution_count": 30,
   "metadata": {},
   "outputs": [
    {
     "ename": "SyntaxError",
     "evalue": "invalid syntax (<ipython-input-30-2bf38c3c5cc5>, line 4)",
     "output_type": "error",
     "traceback": [
      "\u001b[1;36m  File \u001b[1;32m\"<ipython-input-30-2bf38c3c5cc5>\"\u001b[1;36m, line \u001b[1;32m4\u001b[0m\n\u001b[1;33m    global name = \"global variable getting updated inside the function\"\u001b[0m\n\u001b[1;37m                ^\u001b[0m\n\u001b[1;31mSyntaxError\u001b[0m\u001b[1;31m:\u001b[0m invalid syntax\n"
     ]
    }
   ],
   "source": [
    "# if we want to update the global variable we use global keyword\n",
    "name = \"variable declared globally\"\n",
    "def globvar():\n",
    "    global name = \"global variable getting updated inside the function\"\n",
    "    return name"
   ]
  },
  {
   "cell_type": "code",
   "execution_count": 31,
   "metadata": {},
   "outputs": [],
   "source": [
    "## for showing difference to define the global variables\n",
    "name = \"variable declared globally\"\n",
    "def globvar():\n",
    "    global name #declare the global variable first and define the value\n",
    "    name = \"global variable getting updated inside the function\"\n",
    "    return name"
   ]
  },
  {
   "cell_type": "code",
   "execution_count": 32,
   "metadata": {},
   "outputs": [
    {
     "data": {
      "text/plain": [
       "'global variable getting updated inside the function'"
      ]
     },
     "execution_count": 32,
     "metadata": {},
     "output_type": "execute_result"
    }
   ],
   "source": [
    "globvar()"
   ]
  },
  {
   "cell_type": "code",
   "execution_count": 33,
   "metadata": {},
   "outputs": [
    {
     "data": {
      "text/plain": [
       "'global variable getting updated inside the function'"
      ]
     },
     "execution_count": 33,
     "metadata": {},
     "output_type": "execute_result"
    }
   ],
   "source": [
    "name"
   ]
  },
  {
   "cell_type": "markdown",
   "metadata": {},
   "source": [
    " <h1><center> Lambda Expressions </h1></center>    \n",
    " \n",
    " 1. usage of Filter function\n",
    " 2. usage of Map function\n",
    " 3. usage of Reduce function"
   ]
  },
  {
   "cell_type": "code",
   "execution_count": 1,
   "metadata": {},
   "outputs": [],
   "source": [
    "def square(a):\n",
    "    return a*a"
   ]
  },
  {
   "cell_type": "code",
   "execution_count": 2,
   "metadata": {},
   "outputs": [
    {
     "data": {
      "text/plain": [
       "16"
      ]
     },
     "execution_count": 2,
     "metadata": {},
     "output_type": "execute_result"
    }
   ],
   "source": [
    "square(4)"
   ]
  },
  {
   "cell_type": "code",
   "execution_count": 3,
   "metadata": {},
   "outputs": [],
   "source": [
    "var = lambda a:a*a"
   ]
  },
  {
   "cell_type": "code",
   "execution_count": 4,
   "metadata": {},
   "outputs": [
    {
     "name": "stdout",
     "output_type": "stream",
     "text": [
      "Square of a number  25\n"
     ]
    }
   ],
   "source": [
    "print('Square of a number ',var(5))"
   ]
  },
  {
   "cell_type": "code",
   "execution_count": 5,
   "metadata": {},
   "outputs": [],
   "source": [
    "add2num = lambda a,b:a+b"
   ]
  },
  {
   "cell_type": "code",
   "execution_count": 6,
   "metadata": {},
   "outputs": [
    {
     "name": "stdout",
     "output_type": "stream",
     "text": [
      "Square of a number  12\n"
     ]
    }
   ],
   "source": [
    "print('Square of a number ',add2num(5,7))"
   ]
  },
  {
   "cell_type": "markdown",
   "metadata": {},
   "source": [
    "### Filter Function\n",
    "The Filter function takes in function and list as an argument and returns the sequence for which the function returns true"
   ]
  },
  {
   "cell_type": "code",
   "execution_count": 7,
   "metadata": {},
   "outputs": [],
   "source": [
    "original_list = [5, 17, 32, 43, 12, 62, 237, 133, 78, 21]"
   ]
  },
  {
   "cell_type": "code",
   "execution_count": 11,
   "metadata": {},
   "outputs": [],
   "source": [
    "var = lambda x: (x%2 != 0)"
   ]
  },
  {
   "cell_type": "code",
   "execution_count": 13,
   "metadata": {},
   "outputs": [
    {
     "data": {
      "text/plain": [
       "False"
      ]
     },
     "execution_count": 13,
     "metadata": {},
     "output_type": "execute_result"
    }
   ],
   "source": [
    "var(12)"
   ]
  },
  {
   "cell_type": "code",
   "execution_count": 15,
   "metadata": {},
   "outputs": [
    {
     "name": "stdout",
     "output_type": "stream",
     "text": [
      "Odd numbers in the list is :  [5, 17, 43, 237, 133, 21]\n"
     ]
    }
   ],
   "source": [
    "#Passing the lambda function and original list to filter function\n",
    "filtered_list = list(filter(lambda x: (x%2 != 0),original_list))\n",
    "print('Odd numbers in the list is : ',filtered_list)"
   ]
  },
  {
   "cell_type": "code",
   "execution_count": 16,
   "metadata": {},
   "outputs": [
    {
     "name": "stdout",
     "output_type": "stream",
     "text": [
      "multiples of 5 in the list is :  [5, 10, 15, 20, 25, 30, 40]\n"
     ]
    }
   ],
   "source": [
    "# filter function for displaying the multiples of 5\n",
    "original_list = [5,10,12,15,20,22,25,30,33,40]\n",
    "multiple_5 = list(filter(lambda a:(a%5==0),original_list))\n",
    "print('multiples of 5 in the list is : ',multiple_5)"
   ]
  },
  {
   "cell_type": "code",
   "execution_count": 17,
   "metadata": {},
   "outputs": [
    {
     "name": "stdout",
     "output_type": "stream",
     "text": [
      "The words starting with \"S\" are :  ['Standard', 'Super', 'Science']\n"
     ]
    }
   ],
   "source": [
    "original_list = ['Analytics','Standard','Super','Data','Science','Vidhya'] \n",
    "# filter the words starting with 'S'\n",
    "filtered_list = list(filter(lambda x: (x[0] == 'S') , original_list)) \n",
    "print('The words starting with \"S\" are : ',filtered_list) "
   ]
  },
  {
   "cell_type": "markdown",
   "metadata": {},
   "source": [
    "## Map function\n",
    "The map() function in Python takes in a function and a list as argument. The function is called with a lambda function and a list and a new list is returned which contains all the lambda modified items returned by that function for each item."
   ]
  },
  {
   "cell_type": "code",
   "execution_count": 18,
   "metadata": {},
   "outputs": [
    {
     "name": "stdout",
     "output_type": "stream",
     "text": [
      "New List :  [2, 4, 6, 8, 10, 12, 14, 16, 18, 20]\n"
     ]
    }
   ],
   "source": [
    "original_list = [1, 2, 3, 4, 5, 6, 7, 8, 9, 10]\n",
    "# double each number in the original list\n",
    "mapped_list = list(map(lambda x: x*2 , original_list)) \n",
    "print('New List : ',mapped_list)"
   ]
  },
  {
   "cell_type": "code",
   "execution_count": 19,
   "metadata": {},
   "outputs": [
    {
     "name": "stdout",
     "output_type": "stream",
     "text": [
      "New List :  ['Analytics', 'Vidhya', 'King', 'South', 'East']\n"
     ]
    }
   ],
   "source": [
    "original_list = ['analytics','vidhya','king','south','east']\n",
    "# capatilize first letter of each  word in the original list\n",
    "mapped_list = list(map(lambda x: x[0].upper()+x[1:] , original_list)) \n",
    "print('New List : ',mapped_list)"
   ]
  },
  {
   "cell_type": "markdown",
   "metadata": {},
   "source": [
    "### REDUCE FUNCTION\n",
    "\n",
    "The reduce() function in Python takes in a function and a list as argument. The function is called with a lambda function and a list and a new reduced result is returned. This performs a repetitive operation over the pairs of the list.\n",
    "The reduce function will always ***take two parameters***"
   ]
  },
  {
   "cell_type": "code",
   "execution_count": 21,
   "metadata": {},
   "outputs": [],
   "source": [
    "original_list = [1, 2, 3, 4, 5, 6, 7, 8, 9]"
   ]
  },
  {
   "cell_type": "code",
   "execution_count": 22,
   "metadata": {},
   "outputs": [
    {
     "ename": "NameError",
     "evalue": "name 'reduce' is not defined",
     "output_type": "error",
     "traceback": [
      "\u001b[1;31m---------------------------------------------------------------------------\u001b[0m",
      "\u001b[1;31mNameError\u001b[0m                                 Traceback (most recent call last)",
      "\u001b[1;32m<ipython-input-22-cf4d1bb022d9>\u001b[0m in \u001b[0;36m<module>\u001b[1;34m\u001b[0m\n\u001b[0;32m      1\u001b[0m \u001b[1;31m# use reduce function to find the sum of numbers in the original list\u001b[0m\u001b[1;33m\u001b[0m\u001b[1;33m\u001b[0m\u001b[1;33m\u001b[0m\u001b[0m\n\u001b[1;32m----> 2\u001b[1;33m \u001b[0msum_of_list\u001b[0m \u001b[1;33m=\u001b[0m \u001b[0mreduce\u001b[0m\u001b[1;33m(\u001b[0m\u001b[1;33m(\u001b[0m\u001b[1;32mlambda\u001b[0m \u001b[0mx\u001b[0m\u001b[1;33m,\u001b[0m \u001b[0my\u001b[0m \u001b[1;33m:\u001b[0m \u001b[0mx\u001b[0m \u001b[1;33m+\u001b[0m \u001b[0my\u001b[0m\u001b[1;33m)\u001b[0m\u001b[1;33m,\u001b[0m \u001b[0moriginal_list\u001b[0m\u001b[1;33m)\u001b[0m\u001b[1;33m\u001b[0m\u001b[1;33m\u001b[0m\u001b[0m\n\u001b[0m\u001b[0;32m      3\u001b[0m \u001b[0mprint\u001b[0m \u001b[1;33m(\u001b[0m\u001b[1;34m'Sum of Numbers in the original list is : '\u001b[0m\u001b[1;33m,\u001b[0m\u001b[0msum_of_list\u001b[0m\u001b[1;33m)\u001b[0m\u001b[1;33m\u001b[0m\u001b[1;33m\u001b[0m\u001b[0m\n",
      "\u001b[1;31mNameError\u001b[0m: name 'reduce' is not defined"
     ]
    }
   ],
   "source": [
    "# use reduce function to find the sum of numbers in the original list\n",
    "sum_of_list = reduce((lambda x, y : x + y), original_list) \n",
    "print ('Sum of Numbers in the original list is : ',sum_of_list) "
   ]
  },
  {
   "cell_type": "code",
   "execution_count": 23,
   "metadata": {},
   "outputs": [],
   "source": [
    "## reduce to be imported using a different library  - from functools import reduce\n",
    "from functools import reduce"
   ]
  },
  {
   "cell_type": "code",
   "execution_count": 24,
   "metadata": {},
   "outputs": [
    {
     "name": "stdout",
     "output_type": "stream",
     "text": [
      "Sum of Numbers in the original list is :  45\n"
     ]
    }
   ],
   "source": [
    "sum_of_list = reduce((lambda x, y : x + y), original_list) \n",
    "print ('Sum of Numbers in the original list is : ',sum_of_list) "
   ]
  },
  {
   "cell_type": "code",
   "execution_count": 25,
   "metadata": {},
   "outputs": [
    {
     "name": "stdout",
     "output_type": "stream",
     "text": [
      "Largest Number in the original list is :  424\n"
     ]
    }
   ],
   "source": [
    "original_list = [110, 53, 3, 424, 255, 16, 42, 256]\n",
    "# use reduce function to find the largest number in the original list\n",
    "largest_number = reduce((lambda x, y: x if (x > y) else y ), original_list) \n",
    "print ('Largest Number in the original list is : ',largest_number) "
   ]
  },
  {
   "cell_type": "code",
   "execution_count": 26,
   "metadata": {},
   "outputs": [
    {
     "ename": "SyntaxError",
     "evalue": "invalid syntax (<ipython-input-26-06d4477f2b59>, line 1)",
     "output_type": "error",
     "traceback": [
      "\u001b[1;36m  File \u001b[1;32m\"<ipython-input-26-06d4477f2b59>\"\u001b[1;36m, line \u001b[1;32m1\u001b[0m\n\u001b[1;33m    <h1><center> RECURSION  </h1></center>\u001b[0m\n\u001b[1;37m    ^\u001b[0m\n\u001b[1;31mSyntaxError\u001b[0m\u001b[1;31m:\u001b[0m invalid syntax\n"
     ]
    }
   ],
   "source": [
    " <h1><center> RECURSION  </h1></center>"
   ]
  },
  {
   "cell_type": "markdown",
   "metadata": {},
   "source": [
    " <h1><center> RECURSION  </h1></center>"
   ]
  },
  {
   "cell_type": "markdown",
   "metadata": {},
   "source": [
    "Use case Count of handshakes for a give number of person in a room\n",
    "\n",
    "<b> Iterative Approach </b>"
   ]
  },
  {
   "cell_type": "code",
   "execution_count": 39,
   "metadata": {},
   "outputs": [],
   "source": [
    "def count_of_hanshakes(personsinaroom):\n",
    "    count = 0\n",
    "    print(\"Possible combinations\")\n",
    "    print(\"*********************\")\n",
    "    for i in range(1,personsinaroom):\n",
    "        for j in range(i+1,personsinaroom+1):\n",
    "            count = count+1\n",
    "            \n",
    "            print('Handshake between ',i,' and ',j)\n",
    "    print('The total number of handshakes with ',personsinaroom,' persons in a room is ',count)"
   ]
  },
  {
   "cell_type": "code",
   "execution_count": 40,
   "metadata": {},
   "outputs": [
    {
     "name": "stdout",
     "output_type": "stream",
     "text": [
      "Possible combinations\n",
      "*********************\n",
      "Handshake between  1  and  2\n",
      "Handshake between  1  and  3\n",
      "Handshake between  1  and  4\n",
      "Handshake between  1  and  5\n",
      "Handshake between  2  and  3\n",
      "Handshake between  2  and  4\n",
      "Handshake between  2  and  5\n",
      "Handshake between  3  and  4\n",
      "Handshake between  3  and  5\n",
      "Handshake between  4  and  5\n",
      "The total number of handshakes with  5  persons in a room is  10\n"
     ]
    }
   ],
   "source": [
    "count_of_hanshakes(personsinaroom=5)"
   ]
  },
  {
   "cell_type": "code",
   "execution_count": 41,
   "metadata": {},
   "outputs": [
    {
     "name": "stdout",
     "output_type": "stream",
     "text": [
      "Possible combinations\n",
      "*********************\n",
      "Handshake between  1  and  2\n",
      "Handshake between  1  and  3\n",
      "Handshake between  1  and  4\n",
      "Handshake between  1  and  5\n",
      "Handshake between  1  and  6\n",
      "Handshake between  1  and  7\n",
      "Handshake between  1  and  8\n",
      "Handshake between  1  and  9\n",
      "Handshake between  1  and  10\n",
      "Handshake between  2  and  3\n",
      "Handshake between  2  and  4\n",
      "Handshake between  2  and  5\n",
      "Handshake between  2  and  6\n",
      "Handshake between  2  and  7\n",
      "Handshake between  2  and  8\n",
      "Handshake between  2  and  9\n",
      "Handshake between  2  and  10\n",
      "Handshake between  3  and  4\n",
      "Handshake between  3  and  5\n",
      "Handshake between  3  and  6\n",
      "Handshake between  3  and  7\n",
      "Handshake between  3  and  8\n",
      "Handshake between  3  and  9\n",
      "Handshake between  3  and  10\n",
      "Handshake between  4  and  5\n",
      "Handshake between  4  and  6\n",
      "Handshake between  4  and  7\n",
      "Handshake between  4  and  8\n",
      "Handshake between  4  and  9\n",
      "Handshake between  4  and  10\n",
      "Handshake between  5  and  6\n",
      "Handshake between  5  and  7\n",
      "Handshake between  5  and  8\n",
      "Handshake between  5  and  9\n",
      "Handshake between  5  and  10\n",
      "Handshake between  6  and  7\n",
      "Handshake between  6  and  8\n",
      "Handshake between  6  and  9\n",
      "Handshake between  6  and  10\n",
      "Handshake between  7  and  8\n",
      "Handshake between  7  and  9\n",
      "Handshake between  7  and  10\n",
      "Handshake between  8  and  9\n",
      "Handshake between  8  and  10\n",
      "Handshake between  9  and  10\n",
      "The total number of handshakes with  10  persons in a room is  45\n"
     ]
    }
   ],
   "source": [
    "count_of_hanshakes(10)"
   ]
  },
  {
   "cell_type": "markdown",
   "metadata": {},
   "source": [
    "<b> Recursive Approach </b>"
   ]
  },
  {
   "cell_type": "code",
   "execution_count": 45,
   "metadata": {},
   "outputs": [],
   "source": [
    "## Count of handshakes function can be simplified as F(N) = F(N-1)+(N-1)\n",
    "\n",
    "def count_handshakes_rec(totalnumpersions):\n",
    "    if totalnumpersions == 2:\n",
    "        return 1\n",
    "    else:\n",
    "        return count_handshakes_rec(totalnumpersions-1)+(totalnumpersions-1)"
   ]
  },
  {
   "cell_type": "code",
   "execution_count": 46,
   "metadata": {},
   "outputs": [
    {
     "data": {
      "text/plain": [
       "45"
      ]
     },
     "execution_count": 46,
     "metadata": {},
     "output_type": "execute_result"
    }
   ],
   "source": [
    "count_handshakes_rec(10)"
   ]
  },
  {
   "cell_type": "code",
   "execution_count": 47,
   "metadata": {},
   "outputs": [
    {
     "data": {
      "text/plain": [
       "10"
      ]
     },
     "execution_count": 47,
     "metadata": {},
     "output_type": "execute_result"
    }
   ],
   "source": [
    "count_handshakes_rec(5)"
   ]
  },
  {
   "cell_type": "code",
   "execution_count": null,
   "metadata": {},
   "outputs": [],
   "source": []
  }
 ],
 "metadata": {
  "kernelspec": {
   "display_name": "Python 3",
   "language": "python",
   "name": "python3"
  },
  "language_info": {
   "codemirror_mode": {
    "name": "ipython",
    "version": 3
   },
   "file_extension": ".py",
   "mimetype": "text/x-python",
   "name": "python",
   "nbconvert_exporter": "python",
   "pygments_lexer": "ipython3",
   "version": "3.8.5"
  }
 },
 "nbformat": 4,
 "nbformat_minor": 4
}
